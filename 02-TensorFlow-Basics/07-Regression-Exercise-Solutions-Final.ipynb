{
 "cells": [
  {
   "cell_type": "markdown",
   "metadata": {},
   "source": [
    "# Regression Exercise - Solutions\n",
    "\n",
    "California Housing Data\n",
    "\n",
    "This data set contains information about all the block groups in California from the 1990 Census. In this sample a block group on average includes 1425.5 individuals living in a geographically compact area. \n",
    "\n",
    "The task is to aproximate the median house value of each block from the values of the rest of the variables. \n",
    "\n",
    " It has been obtained from the LIACC repository. The original page where the data set can be found is: http://www.liaad.up.pt/~ltorgo/Regression/DataSets.html.\n",
    " "
   ]
  },
  {
   "cell_type": "markdown",
   "metadata": {
    "collapsed": true
   },
   "source": [
    "The Features:\n",
    " \n",
    "* housingMedianAge: continuous. \n",
    "* totalRooms: continuous. \n",
    "* totalBedrooms: continuous. \n",
    "* population: continuous. \n",
    "* households: continuous. \n",
    "* medianIncome: continuous. \n",
    "* medianHouseValue: continuous. "
   ]
  },
  {
   "cell_type": "markdown",
   "metadata": {},
   "source": [
    "## The Data"
   ]
  },
  {
   "cell_type": "markdown",
   "metadata": {},
   "source": [
    "** Import the cal_housing.csv file with pandas. Separate it into a training (70%) and testing set(30%).**"
   ]
  },
  {
   "cell_type": "code",
   "execution_count": 1,
   "metadata": {},
   "outputs": [],
   "source": [
    "import pandas as pd"
   ]
  },
  {
   "cell_type": "code",
   "execution_count": 2,
   "metadata": {},
   "outputs": [],
   "source": [
    "housing = pd.read_csv('cal_housing_clean.csv')"
   ]
  },
  {
   "cell_type": "code",
   "execution_count": 3,
   "metadata": {},
   "outputs": [
    {
     "data": {
      "text/html": [
       "<div>\n",
       "<style scoped>\n",
       "    .dataframe tbody tr th:only-of-type {\n",
       "        vertical-align: middle;\n",
       "    }\n",
       "\n",
       "    .dataframe tbody tr th {\n",
       "        vertical-align: top;\n",
       "    }\n",
       "\n",
       "    .dataframe thead th {\n",
       "        text-align: right;\n",
       "    }\n",
       "</style>\n",
       "<table border=\"1\" class=\"dataframe\">\n",
       "  <thead>\n",
       "    <tr style=\"text-align: right;\">\n",
       "      <th></th>\n",
       "      <th>housingMedianAge</th>\n",
       "      <th>totalRooms</th>\n",
       "      <th>totalBedrooms</th>\n",
       "      <th>population</th>\n",
       "      <th>households</th>\n",
       "      <th>medianIncome</th>\n",
       "      <th>medianHouseValue</th>\n",
       "    </tr>\n",
       "  </thead>\n",
       "  <tbody>\n",
       "    <tr>\n",
       "      <th>0</th>\n",
       "      <td>41.0</td>\n",
       "      <td>880.0</td>\n",
       "      <td>129.0</td>\n",
       "      <td>322.0</td>\n",
       "      <td>126.0</td>\n",
       "      <td>8.3252</td>\n",
       "      <td>452600.0</td>\n",
       "    </tr>\n",
       "    <tr>\n",
       "      <th>1</th>\n",
       "      <td>21.0</td>\n",
       "      <td>7099.0</td>\n",
       "      <td>1106.0</td>\n",
       "      <td>2401.0</td>\n",
       "      <td>1138.0</td>\n",
       "      <td>8.3014</td>\n",
       "      <td>358500.0</td>\n",
       "    </tr>\n",
       "    <tr>\n",
       "      <th>2</th>\n",
       "      <td>52.0</td>\n",
       "      <td>1467.0</td>\n",
       "      <td>190.0</td>\n",
       "      <td>496.0</td>\n",
       "      <td>177.0</td>\n",
       "      <td>7.2574</td>\n",
       "      <td>352100.0</td>\n",
       "    </tr>\n",
       "    <tr>\n",
       "      <th>3</th>\n",
       "      <td>52.0</td>\n",
       "      <td>1274.0</td>\n",
       "      <td>235.0</td>\n",
       "      <td>558.0</td>\n",
       "      <td>219.0</td>\n",
       "      <td>5.6431</td>\n",
       "      <td>341300.0</td>\n",
       "    </tr>\n",
       "    <tr>\n",
       "      <th>4</th>\n",
       "      <td>52.0</td>\n",
       "      <td>1627.0</td>\n",
       "      <td>280.0</td>\n",
       "      <td>565.0</td>\n",
       "      <td>259.0</td>\n",
       "      <td>3.8462</td>\n",
       "      <td>342200.0</td>\n",
       "    </tr>\n",
       "  </tbody>\n",
       "</table>\n",
       "</div>"
      ],
      "text/plain": [
       "   housingMedianAge  totalRooms  totalBedrooms  population  households  \\\n",
       "0              41.0       880.0          129.0       322.0       126.0   \n",
       "1              21.0      7099.0         1106.0      2401.0      1138.0   \n",
       "2              52.0      1467.0          190.0       496.0       177.0   \n",
       "3              52.0      1274.0          235.0       558.0       219.0   \n",
       "4              52.0      1627.0          280.0       565.0       259.0   \n",
       "\n",
       "   medianIncome  medianHouseValue  \n",
       "0        8.3252          452600.0  \n",
       "1        8.3014          358500.0  \n",
       "2        7.2574          352100.0  \n",
       "3        5.6431          341300.0  \n",
       "4        3.8462          342200.0  "
      ]
     },
     "execution_count": 3,
     "metadata": {},
     "output_type": "execute_result"
    }
   ],
   "source": [
    "housing.head()"
   ]
  },
  {
   "cell_type": "code",
   "execution_count": 4,
   "metadata": {},
   "outputs": [
    {
     "data": {
      "text/html": [
       "<div>\n",
       "<style scoped>\n",
       "    .dataframe tbody tr th:only-of-type {\n",
       "        vertical-align: middle;\n",
       "    }\n",
       "\n",
       "    .dataframe tbody tr th {\n",
       "        vertical-align: top;\n",
       "    }\n",
       "\n",
       "    .dataframe thead th {\n",
       "        text-align: right;\n",
       "    }\n",
       "</style>\n",
       "<table border=\"1\" class=\"dataframe\">\n",
       "  <thead>\n",
       "    <tr style=\"text-align: right;\">\n",
       "      <th></th>\n",
       "      <th>count</th>\n",
       "      <th>mean</th>\n",
       "      <th>std</th>\n",
       "      <th>min</th>\n",
       "      <th>25%</th>\n",
       "      <th>50%</th>\n",
       "      <th>75%</th>\n",
       "      <th>max</th>\n",
       "    </tr>\n",
       "  </thead>\n",
       "  <tbody>\n",
       "    <tr>\n",
       "      <th>housingMedianAge</th>\n",
       "      <td>20640.0</td>\n",
       "      <td>28.639486</td>\n",
       "      <td>12.585558</td>\n",
       "      <td>1.0000</td>\n",
       "      <td>18.0000</td>\n",
       "      <td>29.0000</td>\n",
       "      <td>37.00000</td>\n",
       "      <td>52.0000</td>\n",
       "    </tr>\n",
       "    <tr>\n",
       "      <th>totalRooms</th>\n",
       "      <td>20640.0</td>\n",
       "      <td>2635.763081</td>\n",
       "      <td>2181.615252</td>\n",
       "      <td>2.0000</td>\n",
       "      <td>1447.7500</td>\n",
       "      <td>2127.0000</td>\n",
       "      <td>3148.00000</td>\n",
       "      <td>39320.0000</td>\n",
       "    </tr>\n",
       "    <tr>\n",
       "      <th>totalBedrooms</th>\n",
       "      <td>20640.0</td>\n",
       "      <td>537.898014</td>\n",
       "      <td>421.247906</td>\n",
       "      <td>1.0000</td>\n",
       "      <td>295.0000</td>\n",
       "      <td>435.0000</td>\n",
       "      <td>647.00000</td>\n",
       "      <td>6445.0000</td>\n",
       "    </tr>\n",
       "    <tr>\n",
       "      <th>population</th>\n",
       "      <td>20640.0</td>\n",
       "      <td>1425.476744</td>\n",
       "      <td>1132.462122</td>\n",
       "      <td>3.0000</td>\n",
       "      <td>787.0000</td>\n",
       "      <td>1166.0000</td>\n",
       "      <td>1725.00000</td>\n",
       "      <td>35682.0000</td>\n",
       "    </tr>\n",
       "    <tr>\n",
       "      <th>households</th>\n",
       "      <td>20640.0</td>\n",
       "      <td>499.539680</td>\n",
       "      <td>382.329753</td>\n",
       "      <td>1.0000</td>\n",
       "      <td>280.0000</td>\n",
       "      <td>409.0000</td>\n",
       "      <td>605.00000</td>\n",
       "      <td>6082.0000</td>\n",
       "    </tr>\n",
       "    <tr>\n",
       "      <th>medianIncome</th>\n",
       "      <td>20640.0</td>\n",
       "      <td>3.870671</td>\n",
       "      <td>1.899822</td>\n",
       "      <td>0.4999</td>\n",
       "      <td>2.5634</td>\n",
       "      <td>3.5348</td>\n",
       "      <td>4.74325</td>\n",
       "      <td>15.0001</td>\n",
       "    </tr>\n",
       "    <tr>\n",
       "      <th>medianHouseValue</th>\n",
       "      <td>20640.0</td>\n",
       "      <td>206855.816909</td>\n",
       "      <td>115395.615874</td>\n",
       "      <td>14999.0000</td>\n",
       "      <td>119600.0000</td>\n",
       "      <td>179700.0000</td>\n",
       "      <td>264725.00000</td>\n",
       "      <td>500001.0000</td>\n",
       "    </tr>\n",
       "  </tbody>\n",
       "</table>\n",
       "</div>"
      ],
      "text/plain": [
       "                    count           mean            std         min  \\\n",
       "housingMedianAge  20640.0      28.639486      12.585558      1.0000   \n",
       "totalRooms        20640.0    2635.763081    2181.615252      2.0000   \n",
       "totalBedrooms     20640.0     537.898014     421.247906      1.0000   \n",
       "population        20640.0    1425.476744    1132.462122      3.0000   \n",
       "households        20640.0     499.539680     382.329753      1.0000   \n",
       "medianIncome      20640.0       3.870671       1.899822      0.4999   \n",
       "medianHouseValue  20640.0  206855.816909  115395.615874  14999.0000   \n",
       "\n",
       "                          25%          50%           75%          max  \n",
       "housingMedianAge      18.0000      29.0000      37.00000      52.0000  \n",
       "totalRooms          1447.7500    2127.0000    3148.00000   39320.0000  \n",
       "totalBedrooms        295.0000     435.0000     647.00000    6445.0000  \n",
       "population           787.0000    1166.0000    1725.00000   35682.0000  \n",
       "households           280.0000     409.0000     605.00000    6082.0000  \n",
       "medianIncome           2.5634       3.5348       4.74325      15.0001  \n",
       "medianHouseValue  119600.0000  179700.0000  264725.00000  500001.0000  "
      ]
     },
     "execution_count": 4,
     "metadata": {},
     "output_type": "execute_result"
    }
   ],
   "source": [
    "housing.describe().transpose()"
   ]
  },
  {
   "cell_type": "code",
   "execution_count": 5,
   "metadata": {
    "scrolled": true
   },
   "outputs": [],
   "source": [
    "x_data = housing.drop(['medianHouseValue'],axis=1)"
   ]
  },
  {
   "cell_type": "code",
   "execution_count": 6,
   "metadata": {},
   "outputs": [],
   "source": [
    "y_val = housing['medianHouseValue']"
   ]
  },
  {
   "cell_type": "code",
   "execution_count": 7,
   "metadata": {},
   "outputs": [],
   "source": [
    "from sklearn.model_selection import train_test_split"
   ]
  },
  {
   "cell_type": "code",
   "execution_count": 8,
   "metadata": {},
   "outputs": [],
   "source": [
    "X_train, X_test, y_train, y_test = train_test_split(x_data,y_val,test_size=0.3,random_state=101)"
   ]
  },
  {
   "cell_type": "markdown",
   "metadata": {},
   "source": [
    "### Scale the Feature Data\n",
    "\n",
    "** Use sklearn preprocessing to create a MinMaxScaler for the feature data. Fit this scaler only to the training data. Then use it to transform X_test and X_train. Then use the scaled X_test and X_train along with pd.Dataframe to re-create two dataframes of scaled data.**"
   ]
  },
  {
   "cell_type": "code",
   "execution_count": 9,
   "metadata": {},
   "outputs": [],
   "source": [
    "from sklearn.preprocessing import MinMaxScaler"
   ]
  },
  {
   "cell_type": "code",
   "execution_count": 10,
   "metadata": {},
   "outputs": [],
   "source": [
    "scaler = MinMaxScaler()"
   ]
  },
  {
   "cell_type": "code",
   "execution_count": 11,
   "metadata": {},
   "outputs": [
    {
     "data": {
      "text/plain": [
       "MinMaxScaler(copy=True, feature_range=(0, 1))"
      ]
     },
     "execution_count": 11,
     "metadata": {},
     "output_type": "execute_result"
    }
   ],
   "source": [
    "scaler.fit(X_train)"
   ]
  },
  {
   "cell_type": "code",
   "execution_count": 12,
   "metadata": {},
   "outputs": [],
   "source": [
    "X_train = pd.DataFrame(data=scaler.transform(X_train),columns = X_train.columns,index=X_train.index)"
   ]
  },
  {
   "cell_type": "code",
   "execution_count": 13,
   "metadata": {},
   "outputs": [],
   "source": [
    "X_test = pd.DataFrame(data=scaler.transform(X_test),columns = X_test.columns,index=X_test.index)"
   ]
  },
  {
   "cell_type": "markdown",
   "metadata": {},
   "source": [
    "### Create Feature Columns\n",
    "\n",
    "** Create the necessary tf.feature_column objects for the estimator. They should all be trated as continuous numeric_columns. **"
   ]
  },
  {
   "cell_type": "code",
   "execution_count": 14,
   "metadata": {},
   "outputs": [
    {
     "data": {
      "text/plain": [
       "Index(['housingMedianAge', 'totalRooms', 'totalBedrooms', 'population',\n",
       "       'households', 'medianIncome', 'medianHouseValue'],\n",
       "      dtype='object')"
      ]
     },
     "execution_count": 14,
     "metadata": {},
     "output_type": "execute_result"
    }
   ],
   "source": [
    "housing.columns"
   ]
  },
  {
   "cell_type": "code",
   "execution_count": 15,
   "metadata": {},
   "outputs": [
    {
     "name": "stderr",
     "output_type": "stream",
     "text": [
      "C:\\Users\\ASUS\\Anaconda3\\lib\\site-packages\\h5py\\__init__.py:36: FutureWarning: Conversion of the second argument of issubdtype from `float` to `np.floating` is deprecated. In future, it will be treated as `np.float64 == np.dtype(float).type`.\n",
      "  from ._conv import register_converters as _register_converters\n"
     ]
    }
   ],
   "source": [
    "import tensorflow as tf"
   ]
  },
  {
   "cell_type": "code",
   "execution_count": 16,
   "metadata": {},
   "outputs": [],
   "source": [
    "age = tf.feature_column.numeric_column('housingMedianAge')\n",
    "rooms = tf.feature_column.numeric_column('totalRooms')\n",
    "bedrooms = tf.feature_column.numeric_column('totalBedrooms')\n",
    "pop = tf.feature_column.numeric_column('population')\n",
    "households = tf.feature_column.numeric_column('households')\n",
    "income = tf.feature_column.numeric_column('medianIncome')"
   ]
  },
  {
   "cell_type": "code",
   "execution_count": 17,
   "metadata": {},
   "outputs": [],
   "source": [
    "feat_cols = [ age,rooms,bedrooms,pop,households,income]"
   ]
  },
  {
   "cell_type": "markdown",
   "metadata": {},
   "source": [
    "** Create the input function for the estimator object. (play around with batch_size and num_epochs)**"
   ]
  },
  {
   "cell_type": "code",
   "execution_count": 18,
   "metadata": {},
   "outputs": [],
   "source": [
    "input_func = tf.estimator.inputs.pandas_input_fn(x=X_train,y=y_train ,batch_size=10,num_epochs=1000,shuffle=True)"
   ]
  },
  {
   "cell_type": "markdown",
   "metadata": {},
   "source": [
    "** Create the estimator model. Use a DNNRegressor. Play around with the hidden units! **"
   ]
  },
  {
   "cell_type": "code",
   "execution_count": 19,
   "metadata": {},
   "outputs": [
    {
     "name": "stdout",
     "output_type": "stream",
     "text": [
      "INFO:tensorflow:Using default config.\n",
      "WARNING:tensorflow:Using temporary folder as model directory: C:\\Users\\ASUS\\AppData\\Local\\Temp\\tmpbfuupj2a\n",
      "INFO:tensorflow:Using config: {'_model_dir': 'C:\\\\Users\\\\ASUS\\\\AppData\\\\Local\\\\Temp\\\\tmpbfuupj2a', '_tf_random_seed': None, '_save_summary_steps': 100, '_save_checkpoints_steps': None, '_save_checkpoints_secs': 600, '_session_config': None, '_keep_checkpoint_max': 5, '_keep_checkpoint_every_n_hours': 10000, '_log_step_count_steps': 100, '_train_distribute': None, '_device_fn': None, '_service': None, '_cluster_spec': <tensorflow.python.training.server_lib.ClusterSpec object at 0x000001E2FFDD5EB8>, '_task_type': 'worker', '_task_id': 0, '_global_id_in_cluster': 0, '_master': '', '_evaluation_master': '', '_is_chief': True, '_num_ps_replicas': 0, '_num_worker_replicas': 1}\n"
     ]
    }
   ],
   "source": [
    "model = tf.estimator.DNNRegressor(hidden_units=[6,6,6],feature_columns=feat_cols)"
   ]
  },
  {
   "cell_type": "markdown",
   "metadata": {},
   "source": [
    "##### ** Train the model for ~1,000 steps. (Later come back to this and train it for more and check for improvement) **"
   ]
  },
  {
   "cell_type": "code",
   "execution_count": 20,
   "metadata": {},
   "outputs": [
    {
     "name": "stdout",
     "output_type": "stream",
     "text": [
      "INFO:tensorflow:Calling model_fn.\n",
      "INFO:tensorflow:Done calling model_fn.\n",
      "INFO:tensorflow:Create CheckpointSaverHook.\n",
      "INFO:tensorflow:Graph was finalized.\n",
      "INFO:tensorflow:Running local_init_op.\n",
      "INFO:tensorflow:Done running local_init_op.\n",
      "INFO:tensorflow:Saving checkpoints for 0 into C:\\Users\\ASUS\\AppData\\Local\\Temp\\tmpbfuupj2a\\model.ckpt.\n",
      "INFO:tensorflow:loss = 483715740000.0, step = 0\n",
      "INFO:tensorflow:global_step/sec: 391.235\n",
      "INFO:tensorflow:loss = 621848300000.0, step = 100 (0.256 sec)\n",
      "INFO:tensorflow:global_step/sec: 472.011\n",
      "INFO:tensorflow:loss = 638055350000.0, step = 200 (0.212 sec)\n",
      "INFO:tensorflow:global_step/sec: 479.894\n",
      "INFO:tensorflow:loss = 752127050000.0, step = 300 (0.213 sec)\n",
      "INFO:tensorflow:global_step/sec: 476.043\n",
      "INFO:tensorflow:loss = 738570530000.0, step = 400 (0.210 sec)\n",
      "INFO:tensorflow:global_step/sec: 463.396\n",
      "INFO:tensorflow:loss = 439798660000.0, step = 500 (0.213 sec)\n",
      "INFO:tensorflow:global_step/sec: 329.827\n",
      "INFO:tensorflow:loss = 356033270000.0, step = 600 (0.302 sec)\n",
      "INFO:tensorflow:global_step/sec: 496.044\n",
      "INFO:tensorflow:loss = 641319100000.0, step = 700 (0.202 sec)\n",
      "INFO:tensorflow:global_step/sec: 393.207\n",
      "INFO:tensorflow:loss = 204799300000.0, step = 800 (0.258 sec)\n",
      "INFO:tensorflow:global_step/sec: 459.054\n",
      "INFO:tensorflow:loss = 296617570000.0, step = 900 (0.215 sec)\n",
      "INFO:tensorflow:global_step/sec: 493.943\n",
      "INFO:tensorflow:loss = 410688100000.0, step = 1000 (0.205 sec)\n",
      "INFO:tensorflow:global_step/sec: 493.184\n",
      "INFO:tensorflow:loss = 319446900000.0, step = 1100 (0.198 sec)\n",
      "INFO:tensorflow:global_step/sec: 491.827\n",
      "INFO:tensorflow:loss = 363420400000.0, step = 1200 (0.203 sec)\n",
      "INFO:tensorflow:global_step/sec: 492.036\n",
      "INFO:tensorflow:loss = 310335440000.0, step = 1300 (0.203 sec)\n",
      "INFO:tensorflow:global_step/sec: 487.779\n",
      "INFO:tensorflow:loss = 151200810000.0, step = 1400 (0.206 sec)\n",
      "INFO:tensorflow:global_step/sec: 500.567\n",
      "INFO:tensorflow:loss = 84615740000.0, step = 1500 (0.199 sec)\n",
      "INFO:tensorflow:global_step/sec: 488.889\n",
      "INFO:tensorflow:loss = 118590200000.0, step = 1600 (0.205 sec)\n",
      "INFO:tensorflow:global_step/sec: 521.742\n",
      "INFO:tensorflow:loss = 141723140000.0, step = 1700 (0.197 sec)\n",
      "INFO:tensorflow:global_step/sec: 489.243\n",
      "INFO:tensorflow:loss = 74633340000.0, step = 1800 (0.200 sec)\n",
      "INFO:tensorflow:global_step/sec: 491.984\n",
      "INFO:tensorflow:loss = 276773080000.0, step = 1900 (0.202 sec)\n",
      "INFO:tensorflow:global_step/sec: 497.999\n",
      "INFO:tensorflow:loss = 62278630000.0, step = 2000 (0.201 sec)\n",
      "INFO:tensorflow:global_step/sec: 495.925\n",
      "INFO:tensorflow:loss = 48178594000.0, step = 2100 (0.202 sec)\n",
      "INFO:tensorflow:global_step/sec: 337.187\n",
      "INFO:tensorflow:loss = 100720740000.0, step = 2200 (0.299 sec)\n",
      "INFO:tensorflow:global_step/sec: 502.24\n",
      "INFO:tensorflow:loss = 158527730000.0, step = 2300 (0.197 sec)\n",
      "INFO:tensorflow:global_step/sec: 508.389\n",
      "INFO:tensorflow:loss = 196749030000.0, step = 2400 (0.197 sec)\n",
      "INFO:tensorflow:global_step/sec: 514.36\n",
      "INFO:tensorflow:loss = 42031124000.0, step = 2500 (0.194 sec)\n",
      "INFO:tensorflow:global_step/sec: 495.644\n",
      "INFO:tensorflow:loss = 205654130000.0, step = 2600 (0.202 sec)\n",
      "INFO:tensorflow:global_step/sec: 506.605\n",
      "INFO:tensorflow:loss = 74203470000.0, step = 2700 (0.202 sec)\n",
      "INFO:tensorflow:global_step/sec: 485.08\n",
      "INFO:tensorflow:loss = 169385120000.0, step = 2800 (0.201 sec)\n",
      "INFO:tensorflow:global_step/sec: 492.731\n",
      "INFO:tensorflow:loss = 170218820000.0, step = 2900 (0.203 sec)\n",
      "INFO:tensorflow:global_step/sec: 487.336\n",
      "INFO:tensorflow:loss = 77683786000.0, step = 3000 (0.205 sec)\n",
      "INFO:tensorflow:global_step/sec: 499.422\n",
      "INFO:tensorflow:loss = 225659420000.0, step = 3100 (0.201 sec)\n",
      "INFO:tensorflow:global_step/sec: 338.741\n",
      "INFO:tensorflow:loss = 92397390000.0, step = 3200 (0.297 sec)\n",
      "INFO:tensorflow:global_step/sec: 500.385\n",
      "INFO:tensorflow:loss = 151817520000.0, step = 3300 (0.197 sec)\n",
      "INFO:tensorflow:global_step/sec: 500.299\n",
      "INFO:tensorflow:loss = 210385370000.0, step = 3400 (0.200 sec)\n",
      "INFO:tensorflow:global_step/sec: 491.894\n",
      "INFO:tensorflow:loss = 136791450000.0, step = 3500 (0.203 sec)\n",
      "INFO:tensorflow:global_step/sec: 498.49\n",
      "INFO:tensorflow:loss = 157609900000.0, step = 3600 (0.201 sec)\n",
      "INFO:tensorflow:global_step/sec: 501.252\n",
      "INFO:tensorflow:loss = 45320598000.0, step = 3700 (0.204 sec)\n",
      "INFO:tensorflow:global_step/sec: 484.821\n",
      "INFO:tensorflow:loss = 58609738000.0, step = 3800 (0.201 sec)\n",
      "INFO:tensorflow:global_step/sec: 491.562\n",
      "INFO:tensorflow:loss = 107434540000.0, step = 3900 (0.203 sec)\n",
      "INFO:tensorflow:global_step/sec: 490.443\n",
      "INFO:tensorflow:loss = 181664510000.0, step = 4000 (0.204 sec)\n",
      "INFO:tensorflow:global_step/sec: 507.018\n",
      "INFO:tensorflow:loss = 172046270000.0, step = 4100 (0.202 sec)\n",
      "INFO:tensorflow:global_step/sec: 486.328\n",
      "INFO:tensorflow:loss = 114615206000.0, step = 4200 (0.203 sec)\n",
      "INFO:tensorflow:global_step/sec: 360.338\n",
      "INFO:tensorflow:loss = 60407470000.0, step = 4300 (0.281 sec)\n",
      "INFO:tensorflow:global_step/sec: 489.089\n",
      "INFO:tensorflow:loss = 99262950000.0, step = 4400 (0.199 sec)\n",
      "INFO:tensorflow:global_step/sec: 493.85\n",
      "INFO:tensorflow:loss = 104484820000.0, step = 4500 (0.203 sec)\n",
      "INFO:tensorflow:global_step/sec: 502.902\n",
      "INFO:tensorflow:loss = 86053780000.0, step = 4600 (0.198 sec)\n",
      "INFO:tensorflow:global_step/sec: 489.851\n",
      "INFO:tensorflow:loss = 111141626000.0, step = 4700 (0.204 sec)\n",
      "INFO:tensorflow:global_step/sec: 497.748\n",
      "INFO:tensorflow:loss = 111908545000.0, step = 4800 (0.206 sec)\n",
      "INFO:tensorflow:global_step/sec: 490.861\n",
      "INFO:tensorflow:loss = 44914565000.0, step = 4900 (0.204 sec)\n",
      "INFO:tensorflow:global_step/sec: 485.132\n",
      "INFO:tensorflow:loss = 235206030000.0, step = 5000 (0.202 sec)\n",
      "INFO:tensorflow:global_step/sec: 508.591\n",
      "INFO:tensorflow:loss = 56292626000.0, step = 5100 (0.200 sec)\n",
      "INFO:tensorflow:global_step/sec: 503.3\n",
      "INFO:tensorflow:loss = 126888380000.0, step = 5200 (0.199 sec)\n",
      "INFO:tensorflow:global_step/sec: 498.627\n",
      "INFO:tensorflow:loss = 39807304000.0, step = 5300 (0.196 sec)\n",
      "INFO:tensorflow:global_step/sec: 505.013\n",
      "INFO:tensorflow:loss = 129423030000.0, step = 5400 (0.198 sec)\n",
      "INFO:tensorflow:global_step/sec: 496.402\n",
      "INFO:tensorflow:loss = 93330520000.0, step = 5500 (0.202 sec)\n",
      "INFO:tensorflow:global_step/sec: 502.908\n",
      "INFO:tensorflow:loss = 92700780000.0, step = 5600 (0.198 sec)\n",
      "INFO:tensorflow:global_step/sec: 503.378\n",
      "INFO:tensorflow:loss = 113759600000.0, step = 5700 (0.199 sec)\n",
      "INFO:tensorflow:global_step/sec: 516.385\n",
      "INFO:tensorflow:loss = 63389196000.0, step = 5800 (0.194 sec)\n",
      "INFO:tensorflow:global_step/sec: 505.356\n",
      "INFO:tensorflow:loss = 77611740000.0, step = 5900 (0.198 sec)\n",
      "INFO:tensorflow:global_step/sec: 509.598\n",
      "INFO:tensorflow:loss = 87263750000.0, step = 6000 (0.196 sec)\n",
      "INFO:tensorflow:global_step/sec: 509.874\n",
      "INFO:tensorflow:loss = 109295575000.0, step = 6100 (0.196 sec)\n",
      "INFO:tensorflow:global_step/sec: 505.07\n",
      "INFO:tensorflow:loss = 168848180000.0, step = 6200 (0.198 sec)\n",
      "INFO:tensorflow:global_step/sec: 494.025\n",
      "INFO:tensorflow:loss = 121284330000.0, step = 6300 (0.202 sec)\n",
      "INFO:tensorflow:global_step/sec: 527.103\n",
      "INFO:tensorflow:loss = 70704850000.0, step = 6400 (0.190 sec)\n",
      "INFO:tensorflow:global_step/sec: 494.834\n",
      "INFO:tensorflow:loss = 150943830000.0, step = 6500 (0.202 sec)\n",
      "INFO:tensorflow:global_step/sec: 499.653\n",
      "INFO:tensorflow:loss = 119104676000.0, step = 6600 (0.200 sec)\n",
      "INFO:tensorflow:global_step/sec: 499.838\n",
      "INFO:tensorflow:loss = 136273660000.0, step = 6700 (0.200 sec)\n",
      "INFO:tensorflow:global_step/sec: 503.662\n",
      "INFO:tensorflow:loss = 84058610000.0, step = 6800 (0.199 sec)\n",
      "INFO:tensorflow:global_step/sec: 502.912\n",
      "INFO:tensorflow:loss = 130862105000.0, step = 6900 (0.199 sec)\n",
      "INFO:tensorflow:global_step/sec: 492.889\n",
      "INFO:tensorflow:loss = 77579780000.0, step = 7000 (0.203 sec)\n",
      "INFO:tensorflow:global_step/sec: 526.297\n",
      "INFO:tensorflow:loss = 130255220000.0, step = 7100 (0.195 sec)\n",
      "INFO:tensorflow:global_step/sec: 474.554\n",
      "INFO:tensorflow:loss = 40871903000.0, step = 7200 (0.206 sec)\n",
      "INFO:tensorflow:global_step/sec: 471.768\n",
      "INFO:tensorflow:loss = 97905930000.0, step = 7300 (0.213 sec)\n",
      "INFO:tensorflow:global_step/sec: 501.336\n",
      "INFO:tensorflow:loss = 81908170000.0, step = 7400 (0.199 sec)\n",
      "INFO:tensorflow:global_step/sec: 307.569\n",
      "INFO:tensorflow:loss = 154425870000.0, step = 7500 (0.326 sec)\n",
      "INFO:tensorflow:global_step/sec: 326.468\n",
      "INFO:tensorflow:loss = 51202020000.0, step = 7600 (0.304 sec)\n"
     ]
    },
    {
     "name": "stdout",
     "output_type": "stream",
     "text": [
      "INFO:tensorflow:global_step/sec: 433.093\n",
      "INFO:tensorflow:loss = 94910400000.0, step = 7700 (0.231 sec)\n",
      "INFO:tensorflow:global_step/sec: 539.252\n",
      "INFO:tensorflow:loss = 110932935000.0, step = 7800 (0.186 sec)\n",
      "INFO:tensorflow:global_step/sec: 381.245\n",
      "INFO:tensorflow:loss = 53643215000.0, step = 7900 (0.262 sec)\n",
      "INFO:tensorflow:global_step/sec: 533.338\n",
      "INFO:tensorflow:loss = 85735710000.0, step = 8000 (0.187 sec)\n",
      "INFO:tensorflow:global_step/sec: 527.724\n",
      "INFO:tensorflow:loss = 99216740000.0, step = 8100 (0.190 sec)\n",
      "INFO:tensorflow:global_step/sec: 486.735\n",
      "INFO:tensorflow:loss = 117425504000.0, step = 8200 (0.204 sec)\n",
      "INFO:tensorflow:global_step/sec: 335.69\n",
      "INFO:tensorflow:loss = 76987800000.0, step = 8300 (0.299 sec)\n",
      "INFO:tensorflow:global_step/sec: 404.302\n",
      "INFO:tensorflow:loss = 145986910000.0, step = 8400 (0.248 sec)\n",
      "INFO:tensorflow:global_step/sec: 430.671\n",
      "INFO:tensorflow:loss = 102523765000.0, step = 8500 (0.231 sec)\n",
      "INFO:tensorflow:global_step/sec: 412.794\n",
      "INFO:tensorflow:loss = 76435710000.0, step = 8600 (0.241 sec)\n",
      "INFO:tensorflow:global_step/sec: 554.584\n",
      "INFO:tensorflow:loss = 80118870000.0, step = 8700 (0.179 sec)\n",
      "INFO:tensorflow:global_step/sec: 531.861\n",
      "INFO:tensorflow:loss = 62685850000.0, step = 8800 (0.189 sec)\n",
      "INFO:tensorflow:global_step/sec: 536.189\n",
      "INFO:tensorflow:loss = 99541434000.0, step = 8900 (0.187 sec)\n",
      "INFO:tensorflow:global_step/sec: 536.188\n",
      "INFO:tensorflow:loss = 127256720000.0, step = 9000 (0.187 sec)\n",
      "INFO:tensorflow:global_step/sec: 524.961\n",
      "INFO:tensorflow:loss = 106864820000.0, step = 9100 (0.190 sec)\n",
      "INFO:tensorflow:global_step/sec: 508.973\n",
      "INFO:tensorflow:loss = 69396070000.0, step = 9200 (0.195 sec)\n",
      "INFO:tensorflow:global_step/sec: 516.842\n",
      "INFO:tensorflow:loss = 55504732000.0, step = 9300 (0.193 sec)\n",
      "INFO:tensorflow:global_step/sec: 532.696\n",
      "INFO:tensorflow:loss = 78344495000.0, step = 9400 (0.188 sec)\n",
      "INFO:tensorflow:global_step/sec: 435.858\n",
      "INFO:tensorflow:loss = 101360020000.0, step = 9500 (0.229 sec)\n",
      "INFO:tensorflow:global_step/sec: 570.859\n",
      "INFO:tensorflow:loss = 113127770000.0, step = 9600 (0.174 sec)\n",
      "INFO:tensorflow:global_step/sec: 583.04\n",
      "INFO:tensorflow:loss = 169192910000.0, step = 9700 (0.173 sec)\n",
      "INFO:tensorflow:global_step/sec: 539.072\n",
      "INFO:tensorflow:loss = 107303560000.0, step = 9800 (0.186 sec)\n",
      "INFO:tensorflow:global_step/sec: 553.964\n",
      "INFO:tensorflow:loss = 186958700000.0, step = 9900 (0.182 sec)\n",
      "INFO:tensorflow:global_step/sec: 588.341\n",
      "INFO:tensorflow:loss = 116954230000.0, step = 10000 (0.169 sec)\n",
      "INFO:tensorflow:global_step/sec: 559.743\n",
      "INFO:tensorflow:loss = 36601496000.0, step = 10100 (0.178 sec)\n",
      "INFO:tensorflow:global_step/sec: 580.5\n",
      "INFO:tensorflow:loss = 37546140000.0, step = 10200 (0.174 sec)\n",
      "INFO:tensorflow:global_step/sec: 403.089\n",
      "INFO:tensorflow:loss = 149912730000.0, step = 10300 (0.249 sec)\n",
      "INFO:tensorflow:global_step/sec: 355.559\n",
      "INFO:tensorflow:loss = 45925670000.0, step = 10400 (0.279 sec)\n",
      "INFO:tensorflow:global_step/sec: 492.986\n",
      "INFO:tensorflow:loss = 46304707000.0, step = 10500 (0.203 sec)\n",
      "INFO:tensorflow:global_step/sec: 533.733\n",
      "INFO:tensorflow:loss = 108299300000.0, step = 10600 (0.187 sec)\n",
      "INFO:tensorflow:global_step/sec: 442.93\n",
      "INFO:tensorflow:loss = 119298940000.0, step = 10700 (0.227 sec)\n",
      "INFO:tensorflow:global_step/sec: 297.268\n",
      "INFO:tensorflow:loss = 51018700000.0, step = 10800 (0.334 sec)\n",
      "INFO:tensorflow:global_step/sec: 487.566\n",
      "INFO:tensorflow:loss = 136256800000.0, step = 10900 (0.206 sec)\n",
      "INFO:tensorflow:global_step/sec: 495.728\n",
      "INFO:tensorflow:loss = 120386860000.0, step = 11000 (0.201 sec)\n",
      "INFO:tensorflow:global_step/sec: 481.148\n",
      "INFO:tensorflow:loss = 80762070000.0, step = 11100 (0.210 sec)\n",
      "INFO:tensorflow:global_step/sec: 522.152\n",
      "INFO:tensorflow:loss = 85759280000.0, step = 11200 (0.195 sec)\n",
      "INFO:tensorflow:global_step/sec: 512.371\n",
      "INFO:tensorflow:loss = 238136620000.0, step = 11300 (0.192 sec)\n",
      "INFO:tensorflow:global_step/sec: 538.185\n",
      "INFO:tensorflow:loss = 44996440000.0, step = 11400 (0.185 sec)\n",
      "INFO:tensorflow:global_step/sec: 497.837\n",
      "INFO:tensorflow:loss = 81960320000.0, step = 11500 (0.202 sec)\n",
      "INFO:tensorflow:global_step/sec: 470.412\n",
      "INFO:tensorflow:loss = 39522670000.0, step = 11600 (0.211 sec)\n",
      "INFO:tensorflow:global_step/sec: 507.169\n",
      "INFO:tensorflow:loss = 45884563000.0, step = 11700 (0.197 sec)\n",
      "INFO:tensorflow:global_step/sec: 410.095\n",
      "INFO:tensorflow:loss = 223341350000.0, step = 11800 (0.245 sec)\n",
      "INFO:tensorflow:global_step/sec: 513.089\n",
      "INFO:tensorflow:loss = 39459040000.0, step = 11900 (0.194 sec)\n",
      "INFO:tensorflow:global_step/sec: 496.878\n",
      "INFO:tensorflow:loss = 57010890000.0, step = 12000 (0.203 sec)\n",
      "INFO:tensorflow:global_step/sec: 507.622\n",
      "INFO:tensorflow:loss = 108475830000.0, step = 12100 (0.195 sec)\n",
      "INFO:tensorflow:global_step/sec: 496.829\n",
      "INFO:tensorflow:loss = 110495154000.0, step = 12200 (0.202 sec)\n",
      "INFO:tensorflow:global_step/sec: 507.855\n",
      "INFO:tensorflow:loss = 79882420000.0, step = 12300 (0.201 sec)\n",
      "INFO:tensorflow:global_step/sec: 504.633\n",
      "INFO:tensorflow:loss = 96791350000.0, step = 12400 (0.193 sec)\n",
      "INFO:tensorflow:global_step/sec: 477.283\n",
      "INFO:tensorflow:loss = 63703343000.0, step = 12500 (0.210 sec)\n",
      "INFO:tensorflow:global_step/sec: 513.102\n",
      "INFO:tensorflow:loss = 97401180000.0, step = 12600 (0.200 sec)\n",
      "INFO:tensorflow:global_step/sec: 453.928\n",
      "INFO:tensorflow:loss = 108467210000.0, step = 12700 (0.217 sec)\n",
      "INFO:tensorflow:global_step/sec: 441.962\n",
      "INFO:tensorflow:loss = 121462505000.0, step = 12800 (0.225 sec)\n",
      "INFO:tensorflow:global_step/sec: 533.697\n",
      "INFO:tensorflow:loss = 157557950000.0, step = 12900 (0.186 sec)\n",
      "INFO:tensorflow:global_step/sec: 499.263\n",
      "INFO:tensorflow:loss = 40548300000.0, step = 13000 (0.200 sec)\n",
      "INFO:tensorflow:global_step/sec: 471\n",
      "INFO:tensorflow:loss = 185121010000.0, step = 13100 (0.213 sec)\n",
      "INFO:tensorflow:global_step/sec: 500.191\n",
      "INFO:tensorflow:loss = 179314560000.0, step = 13200 (0.200 sec)\n",
      "INFO:tensorflow:global_step/sec: 530.188\n",
      "INFO:tensorflow:loss = 102931910000.0, step = 13300 (0.188 sec)\n",
      "INFO:tensorflow:global_step/sec: 505.34\n",
      "INFO:tensorflow:loss = 87518530000.0, step = 13400 (0.198 sec)\n",
      "INFO:tensorflow:global_step/sec: 533.377\n",
      "INFO:tensorflow:loss = 36321645000.0, step = 13500 (0.190 sec)\n",
      "INFO:tensorflow:global_step/sec: 517.741\n",
      "INFO:tensorflow:loss = 161390900000.0, step = 13600 (0.195 sec)\n",
      "INFO:tensorflow:global_step/sec: 490.186\n",
      "INFO:tensorflow:loss = 103608650000.0, step = 13700 (0.199 sec)\n",
      "INFO:tensorflow:global_step/sec: 477.626\n",
      "INFO:tensorflow:loss = 61591790000.0, step = 13800 (0.209 sec)\n",
      "INFO:tensorflow:global_step/sec: 591.108\n",
      "INFO:tensorflow:loss = 70567870000.0, step = 13900 (0.169 sec)\n",
      "INFO:tensorflow:global_step/sec: 555.853\n",
      "INFO:tensorflow:loss = 56044343000.0, step = 14000 (0.180 sec)\n",
      "INFO:tensorflow:global_step/sec: 555.852\n",
      "INFO:tensorflow:loss = 109422410000.0, step = 14100 (0.180 sec)\n",
      "INFO:tensorflow:global_step/sec: 531.612\n",
      "INFO:tensorflow:loss = 90926120000.0, step = 14200 (0.189 sec)\n",
      "INFO:tensorflow:global_step/sec: 589.866\n",
      "INFO:tensorflow:loss = 126716355000.0, step = 14300 (0.169 sec)\n",
      "INFO:tensorflow:global_step/sec: 570.113\n",
      "INFO:tensorflow:loss = 152245190000.0, step = 14400 (0.176 sec)\n",
      "INFO:tensorflow:global_step/sec: 574.241\n",
      "INFO:tensorflow:loss = 28604030000.0, step = 14500 (0.174 sec)\n",
      "INFO:tensorflow:global_step/sec: 514.119\n",
      "INFO:tensorflow:loss = 33187006000.0, step = 14600 (0.195 sec)\n",
      "INFO:tensorflow:global_step/sec: 563.301\n",
      "INFO:tensorflow:loss = 140696490000.0, step = 14700 (0.179 sec)\n",
      "INFO:tensorflow:global_step/sec: 367.28\n",
      "INFO:tensorflow:loss = 155816310000.0, step = 14800 (0.275 sec)\n",
      "INFO:tensorflow:global_step/sec: 508.615\n",
      "INFO:tensorflow:loss = 124369270000.0, step = 14900 (0.194 sec)\n",
      "INFO:tensorflow:global_step/sec: 353.54\n",
      "INFO:tensorflow:loss = 200081750000.0, step = 15000 (0.281 sec)\n",
      "INFO:tensorflow:global_step/sec: 330.984\n",
      "INFO:tensorflow:loss = 93159060000.0, step = 15100 (0.304 sec)\n",
      "INFO:tensorflow:global_step/sec: 441.18\n",
      "INFO:tensorflow:loss = 37047610000.0, step = 15200 (0.230 sec)\n",
      "INFO:tensorflow:global_step/sec: 425.025\n",
      "INFO:tensorflow:loss = 105976250000.0, step = 15300 (0.230 sec)\n",
      "INFO:tensorflow:global_step/sec: 415.684\n",
      "INFO:tensorflow:loss = 162970830000.0, step = 15400 (0.243 sec)\n",
      "INFO:tensorflow:global_step/sec: 419.529\n",
      "INFO:tensorflow:loss = 68152664000.0, step = 15500 (0.238 sec)\n"
     ]
    },
    {
     "name": "stdout",
     "output_type": "stream",
     "text": [
      "INFO:tensorflow:global_step/sec: 430.219\n",
      "INFO:tensorflow:loss = 48050876000.0, step = 15600 (0.230 sec)\n",
      "INFO:tensorflow:global_step/sec: 422.757\n",
      "INFO:tensorflow:loss = 39705793000.0, step = 15700 (0.238 sec)\n",
      "INFO:tensorflow:global_step/sec: 434.238\n",
      "INFO:tensorflow:loss = 79734330000.0, step = 15800 (0.234 sec)\n",
      "INFO:tensorflow:global_step/sec: 416.889\n",
      "INFO:tensorflow:loss = 159341870000.0, step = 15900 (0.235 sec)\n",
      "INFO:tensorflow:global_step/sec: 427.937\n",
      "INFO:tensorflow:loss = 73730290000.0, step = 16000 (0.235 sec)\n",
      "INFO:tensorflow:global_step/sec: 332.213\n",
      "INFO:tensorflow:loss = 66485133000.0, step = 16100 (0.302 sec)\n",
      "INFO:tensorflow:global_step/sec: 397.973\n",
      "INFO:tensorflow:loss = 46202024000.0, step = 16200 (0.254 sec)\n",
      "INFO:tensorflow:global_step/sec: 424.545\n",
      "INFO:tensorflow:loss = 39053435000.0, step = 16300 (0.231 sec)\n",
      "INFO:tensorflow:global_step/sec: 431.159\n",
      "INFO:tensorflow:loss = 98709160000.0, step = 16400 (0.232 sec)\n",
      "INFO:tensorflow:global_step/sec: 430.093\n",
      "INFO:tensorflow:loss = 51857777000.0, step = 16500 (0.233 sec)\n",
      "INFO:tensorflow:global_step/sec: 421.376\n",
      "INFO:tensorflow:loss = 63955476000.0, step = 16600 (0.237 sec)\n",
      "INFO:tensorflow:global_step/sec: 410.743\n",
      "INFO:tensorflow:loss = 156558160000.0, step = 16700 (0.245 sec)\n",
      "INFO:tensorflow:global_step/sec: 394.752\n",
      "INFO:tensorflow:loss = 83635280000.0, step = 16800 (0.257 sec)\n",
      "INFO:tensorflow:global_step/sec: 289.546\n",
      "INFO:tensorflow:loss = 116335790000.0, step = 16900 (0.343 sec)\n",
      "INFO:tensorflow:global_step/sec: 415.906\n",
      "INFO:tensorflow:loss = 97739350000.0, step = 17000 (0.239 sec)\n",
      "INFO:tensorflow:global_step/sec: 417.348\n",
      "INFO:tensorflow:loss = 83286720000.0, step = 17100 (0.240 sec)\n",
      "INFO:tensorflow:global_step/sec: 325.219\n",
      "INFO:tensorflow:loss = 53873144000.0, step = 17200 (0.306 sec)\n",
      "INFO:tensorflow:global_step/sec: 408.574\n",
      "INFO:tensorflow:loss = 134922174000.0, step = 17300 (0.244 sec)\n",
      "INFO:tensorflow:global_step/sec: 337.262\n",
      "INFO:tensorflow:loss = 66606924000.0, step = 17400 (0.299 sec)\n",
      "INFO:tensorflow:global_step/sec: 393.206\n",
      "INFO:tensorflow:loss = 130489900000.0, step = 17500 (0.254 sec)\n",
      "INFO:tensorflow:global_step/sec: 392.346\n",
      "INFO:tensorflow:loss = 82787760000.0, step = 17600 (0.253 sec)\n",
      "INFO:tensorflow:global_step/sec: 377.193\n",
      "INFO:tensorflow:loss = 65465537000.0, step = 17700 (0.265 sec)\n",
      "INFO:tensorflow:global_step/sec: 291.214\n",
      "INFO:tensorflow:loss = 148643950000.0, step = 17800 (0.343 sec)\n",
      "INFO:tensorflow:global_step/sec: 425.904\n",
      "INFO:tensorflow:loss = 130199590000.0, step = 17900 (0.237 sec)\n",
      "INFO:tensorflow:global_step/sec: 423.068\n",
      "INFO:tensorflow:loss = 157559910000.0, step = 18000 (0.235 sec)\n",
      "INFO:tensorflow:global_step/sec: 424.862\n",
      "INFO:tensorflow:loss = 43487162000.0, step = 18100 (0.236 sec)\n",
      "INFO:tensorflow:global_step/sec: 433.378\n",
      "INFO:tensorflow:loss = 162402140000.0, step = 18200 (0.229 sec)\n",
      "INFO:tensorflow:global_step/sec: 411.902\n",
      "INFO:tensorflow:loss = 151650500000.0, step = 18300 (0.245 sec)\n",
      "INFO:tensorflow:global_step/sec: 293.858\n",
      "INFO:tensorflow:loss = 46649606000.0, step = 18400 (0.343 sec)\n",
      "INFO:tensorflow:global_step/sec: 425.995\n",
      "INFO:tensorflow:loss = 76036645000.0, step = 18500 (0.230 sec)\n",
      "INFO:tensorflow:global_step/sec: 435.015\n",
      "INFO:tensorflow:loss = 64499565000.0, step = 18600 (0.230 sec)\n",
      "INFO:tensorflow:global_step/sec: 434.255\n",
      "INFO:tensorflow:loss = 67005125000.0, step = 18700 (0.230 sec)\n",
      "INFO:tensorflow:global_step/sec: 431.075\n",
      "INFO:tensorflow:loss = 141184760000.0, step = 18800 (0.233 sec)\n",
      "INFO:tensorflow:global_step/sec: 450.658\n",
      "INFO:tensorflow:loss = 112341434000.0, step = 18900 (0.221 sec)\n",
      "INFO:tensorflow:global_step/sec: 425.759\n",
      "INFO:tensorflow:loss = 102816310000.0, step = 19000 (0.235 sec)\n",
      "INFO:tensorflow:global_step/sec: 435.13\n",
      "INFO:tensorflow:loss = 165509430000.0, step = 19100 (0.230 sec)\n",
      "INFO:tensorflow:global_step/sec: 320.638\n",
      "INFO:tensorflow:loss = 108640860000.0, step = 19200 (0.313 sec)\n",
      "INFO:tensorflow:global_step/sec: 440.414\n",
      "INFO:tensorflow:loss = 63884040000.0, step = 19300 (0.227 sec)\n",
      "INFO:tensorflow:global_step/sec: 316.939\n",
      "INFO:tensorflow:loss = 81318060000.0, step = 19400 (0.320 sec)\n",
      "INFO:tensorflow:global_step/sec: 427.239\n",
      "INFO:tensorflow:loss = 62527357000.0, step = 19500 (0.231 sec)\n",
      "INFO:tensorflow:global_step/sec: 420.292\n",
      "INFO:tensorflow:loss = 83979280000.0, step = 19600 (0.236 sec)\n",
      "INFO:tensorflow:global_step/sec: 420.49\n",
      "INFO:tensorflow:loss = 36614308000.0, step = 19700 (0.243 sec)\n",
      "INFO:tensorflow:global_step/sec: 408.38\n",
      "INFO:tensorflow:loss = 47452370000.0, step = 19800 (0.240 sec)\n",
      "INFO:tensorflow:global_step/sec: 292.022\n",
      "INFO:tensorflow:loss = 118004900000.0, step = 19900 (0.343 sec)\n",
      "INFO:tensorflow:global_step/sec: 426.808\n",
      "INFO:tensorflow:loss = 157833850000.0, step = 20000 (0.233 sec)\n",
      "INFO:tensorflow:global_step/sec: 420.409\n",
      "INFO:tensorflow:loss = 136936450000.0, step = 20100 (0.243 sec)\n",
      "INFO:tensorflow:global_step/sec: 416.891\n",
      "INFO:tensorflow:loss = 60870218000.0, step = 20200 (0.235 sec)\n",
      "INFO:tensorflow:global_step/sec: 413.805\n",
      "INFO:tensorflow:loss = 84471480000.0, step = 20300 (0.244 sec)\n",
      "INFO:tensorflow:global_step/sec: 418.444\n",
      "INFO:tensorflow:loss = 180053870000.0, step = 20400 (0.242 sec)\n",
      "INFO:tensorflow:global_step/sec: 412.195\n",
      "INFO:tensorflow:loss = 55698727000.0, step = 20500 (0.243 sec)\n",
      "INFO:tensorflow:global_step/sec: 355.509\n",
      "INFO:tensorflow:loss = 131367070000.0, step = 20600 (0.279 sec)\n",
      "INFO:tensorflow:global_step/sec: 321.495\n",
      "INFO:tensorflow:loss = 107161900000.0, step = 20700 (0.308 sec)\n",
      "INFO:tensorflow:global_step/sec: 405.153\n",
      "INFO:tensorflow:loss = 69335065000.0, step = 20800 (0.248 sec)\n",
      "INFO:tensorflow:global_step/sec: 408.1\n",
      "INFO:tensorflow:loss = 284742060000.0, step = 20900 (0.245 sec)\n",
      "INFO:tensorflow:global_step/sec: 410.933\n",
      "INFO:tensorflow:loss = 52266960000.0, step = 21000 (0.244 sec)\n",
      "INFO:tensorflow:global_step/sec: 405.942\n",
      "INFO:tensorflow:loss = 106490140000.0, step = 21100 (0.245 sec)\n",
      "INFO:tensorflow:global_step/sec: 409.253\n",
      "INFO:tensorflow:loss = 156046410000.0, step = 21200 (0.244 sec)\n",
      "INFO:tensorflow:global_step/sec: 415.354\n",
      "INFO:tensorflow:loss = 85437110000.0, step = 21300 (0.240 sec)\n",
      "INFO:tensorflow:global_step/sec: 409.332\n",
      "INFO:tensorflow:loss = 131040890000.0, step = 21400 (0.246 sec)\n",
      "INFO:tensorflow:global_step/sec: 413.168\n",
      "INFO:tensorflow:loss = 159632400000.0, step = 21500 (0.240 sec)\n",
      "INFO:tensorflow:global_step/sec: 411.638\n",
      "INFO:tensorflow:loss = 84902840000.0, step = 21600 (0.244 sec)\n",
      "INFO:tensorflow:global_step/sec: 399.556\n",
      "INFO:tensorflow:loss = 83863840000.0, step = 21700 (0.249 sec)\n",
      "INFO:tensorflow:global_step/sec: 410.012\n",
      "INFO:tensorflow:loss = 55463950000.0, step = 21800 (0.245 sec)\n",
      "INFO:tensorflow:global_step/sec: 400.91\n",
      "INFO:tensorflow:loss = 98821300000.0, step = 21900 (0.250 sec)\n",
      "INFO:tensorflow:global_step/sec: 416.704\n",
      "INFO:tensorflow:loss = 100163380000.0, step = 22000 (0.243 sec)\n",
      "INFO:tensorflow:global_step/sec: 402.241\n",
      "INFO:tensorflow:loss = 124848900000.0, step = 22100 (0.244 sec)\n",
      "INFO:tensorflow:global_step/sec: 414.859\n",
      "INFO:tensorflow:loss = 85032030000.0, step = 22200 (0.243 sec)\n",
      "INFO:tensorflow:global_step/sec: 418.557\n",
      "INFO:tensorflow:loss = 186717770000.0, step = 22300 (0.238 sec)\n",
      "INFO:tensorflow:global_step/sec: 404.181\n",
      "INFO:tensorflow:loss = 104405340000.0, step = 22400 (0.247 sec)\n",
      "INFO:tensorflow:global_step/sec: 413.303\n",
      "INFO:tensorflow:loss = 42849650000.0, step = 22500 (0.241 sec)\n",
      "INFO:tensorflow:global_step/sec: 405.243\n",
      "INFO:tensorflow:loss = 81007140000.0, step = 22600 (0.345 sec)\n",
      "INFO:tensorflow:global_step/sec: 255.94\n",
      "INFO:tensorflow:loss = 45879435000.0, step = 22700 (0.294 sec)\n",
      "INFO:tensorflow:global_step/sec: 340.031\n",
      "INFO:tensorflow:loss = 101711360000.0, step = 22800 (0.294 sec)\n",
      "INFO:tensorflow:global_step/sec: 370.493\n",
      "INFO:tensorflow:loss = 64019775000.0, step = 22900 (0.268 sec)\n",
      "INFO:tensorflow:global_step/sec: 404.81\n",
      "INFO:tensorflow:loss = 32016536000.0, step = 23000 (0.248 sec)\n",
      "INFO:tensorflow:global_step/sec: 405.941\n",
      "INFO:tensorflow:loss = 90901630000.0, step = 23100 (0.247 sec)\n",
      "INFO:tensorflow:global_step/sec: 408.356\n",
      "INFO:tensorflow:loss = 91004940000.0, step = 23200 (0.243 sec)\n",
      "INFO:tensorflow:global_step/sec: 416.889\n",
      "INFO:tensorflow:loss = 40978250000.0, step = 23300 (0.245 sec)\n",
      "INFO:tensorflow:global_step/sec: 416.133\n",
      "INFO:tensorflow:loss = 64407806000.0, step = 23400 (0.240 sec)\n"
     ]
    },
    {
     "name": "stdout",
     "output_type": "stream",
     "text": [
      "INFO:tensorflow:global_step/sec: 397.635\n",
      "INFO:tensorflow:loss = 85922860000.0, step = 23500 (0.251 sec)\n",
      "INFO:tensorflow:global_step/sec: 415.895\n",
      "INFO:tensorflow:loss = 69702480000.0, step = 23600 (0.240 sec)\n",
      "INFO:tensorflow:global_step/sec: 407.915\n",
      "INFO:tensorflow:loss = 260535320000.0, step = 23700 (0.240 sec)\n",
      "INFO:tensorflow:global_step/sec: 430.633\n",
      "INFO:tensorflow:loss = 63334160000.0, step = 23800 (0.232 sec)\n",
      "INFO:tensorflow:global_step/sec: 430.785\n",
      "INFO:tensorflow:loss = 80423540000.0, step = 23900 (0.232 sec)\n",
      "INFO:tensorflow:global_step/sec: 421.892\n",
      "INFO:tensorflow:loss = 65547866000.0, step = 24000 (0.237 sec)\n",
      "INFO:tensorflow:global_step/sec: 435.017\n",
      "INFO:tensorflow:loss = 57869610000.0, step = 24100 (0.235 sec)\n",
      "INFO:tensorflow:global_step/sec: 416.317\n",
      "INFO:tensorflow:loss = 36019896000.0, step = 24200 (0.340 sec)\n",
      "INFO:tensorflow:global_step/sec: 264.293\n",
      "INFO:tensorflow:loss = 114399250000.0, step = 24300 (0.274 sec)\n",
      "INFO:tensorflow:global_step/sec: 442.761\n",
      "INFO:tensorflow:loss = 80179100000.0, step = 24400 (0.226 sec)\n",
      "INFO:tensorflow:global_step/sec: 422.314\n",
      "INFO:tensorflow:loss = 68153328000.0, step = 24500 (0.239 sec)\n",
      "INFO:tensorflow:global_step/sec: 432.01\n",
      "INFO:tensorflow:loss = 63366550000.0, step = 24600 (0.229 sec)\n",
      "INFO:tensorflow:global_step/sec: 421.282\n",
      "INFO:tensorflow:loss = 50651005000.0, step = 24700 (0.237 sec)\n",
      "INFO:tensorflow:global_step/sec: 429.79\n",
      "INFO:tensorflow:loss = 173099090000.0, step = 24800 (0.238 sec)\n",
      "INFO:tensorflow:global_step/sec: 415.512\n",
      "INFO:tensorflow:loss = 71342930000.0, step = 24900 (0.241 sec)\n",
      "INFO:tensorflow:Saving checkpoints for 25000 into C:\\Users\\ASUS\\AppData\\Local\\Temp\\tmpbfuupj2a\\model.ckpt.\n",
      "INFO:tensorflow:Loss for final step: 67492790000.0.\n"
     ]
    },
    {
     "data": {
      "text/plain": [
       "<tensorflow.python.estimator.canned.dnn.DNNRegressor at 0x1e293228320>"
      ]
     },
     "execution_count": 20,
     "metadata": {},
     "output_type": "execute_result"
    }
   ],
   "source": [
    "model.train(input_fn=input_func,steps=25000)"
   ]
  },
  {
   "cell_type": "markdown",
   "metadata": {},
   "source": [
    "** Create a prediction input function and then use the .predict method off your estimator model to create a list or predictions on your test data. **"
   ]
  },
  {
   "cell_type": "code",
   "execution_count": 21,
   "metadata": {},
   "outputs": [],
   "source": [
    "predict_input_func = tf.estimator.inputs.pandas_input_fn(\n",
    "      x=X_test,\n",
    "      batch_size=10,\n",
    "      num_epochs=1,\n",
    "      shuffle=False)"
   ]
  },
  {
   "cell_type": "code",
   "execution_count": 22,
   "metadata": {},
   "outputs": [],
   "source": [
    "pred_gen = model.predict(predict_input_func)"
   ]
  },
  {
   "cell_type": "code",
   "execution_count": 23,
   "metadata": {},
   "outputs": [
    {
     "name": "stdout",
     "output_type": "stream",
     "text": [
      "INFO:tensorflow:Calling model_fn.\n",
      "INFO:tensorflow:Done calling model_fn.\n",
      "INFO:tensorflow:Graph was finalized.\n",
      "INFO:tensorflow:Restoring parameters from C:\\Users\\ASUS\\AppData\\Local\\Temp\\tmpbfuupj2a\\model.ckpt-25000\n",
      "INFO:tensorflow:Running local_init_op.\n",
      "INFO:tensorflow:Done running local_init_op.\n"
     ]
    }
   ],
   "source": [
    "predictions = list(pred_gen)"
   ]
  },
  {
   "cell_type": "markdown",
   "metadata": {},
   "source": [
    "** Calculate the RMSE. Do this manually or use [sklearn.metrics](http://scikit-learn.org/stable/modules/generated/sklearn.metrics.mean_squared_error.html) **"
   ]
  },
  {
   "cell_type": "code",
   "execution_count": 24,
   "metadata": {},
   "outputs": [],
   "source": [
    "final_preds = []\n",
    "for pred in predictions:\n",
    "    final_preds.append(pred['predictions'])"
   ]
  },
  {
   "cell_type": "code",
   "execution_count": 25,
   "metadata": {},
   "outputs": [],
   "source": [
    "from sklearn.metrics import mean_squared_error"
   ]
  },
  {
   "cell_type": "code",
   "execution_count": 26,
   "metadata": {},
   "outputs": [
    {
     "data": {
      "text/plain": [
       "98466.61728586984"
      ]
     },
     "execution_count": 26,
     "metadata": {},
     "output_type": "execute_result"
    }
   ],
   "source": [
    "mean_squared_error(y_test,final_preds)**0.5"
   ]
  },
  {
   "cell_type": "markdown",
   "metadata": {},
   "source": [
    "# Great Job!"
   ]
  }
 ],
 "metadata": {
  "kernelspec": {
   "display_name": "Python 3",
   "language": "python",
   "name": "python3"
  },
  "language_info": {
   "codemirror_mode": {
    "name": "ipython",
    "version": 3
   },
   "file_extension": ".py",
   "mimetype": "text/x-python",
   "name": "python",
   "nbconvert_exporter": "python",
   "pygments_lexer": "ipython3",
   "version": "3.6.5"
  }
 },
 "nbformat": 4,
 "nbformat_minor": 2
}
